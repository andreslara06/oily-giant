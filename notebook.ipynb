{
 "cells": [
  {
   "cell_type": "markdown",
   "metadata": {},
   "source": [
    "## En busca de nuevos pozos de petróleo\n",
    "\n",
    "\n",
    "En este proyecto la compañía  de extración de petróleo OilyGiant nos solicita encontrar los mejores lugares para abrir 200 pozos nuevos de pretroleo.\n",
    "\n",
    "Nos proporcionan datos sobre muestras de crudo de tres regiones y con ello, la meta es crear un modelo que ayude a elegir la región con e mayor margen de beneficio.\n",
    "\n"
   ]
  },
  {
   "cell_type": "code",
   "execution_count": 1,
   "metadata": {},
   "outputs": [],
   "source": [
    "# importamos la librerías que vamos a usar\n",
    "import pandas as pd\n",
    "import matplotlib.pyplot as plt\n",
    "from sklearn.linear_model import LinearRegression\n",
    "from sklearn.model_selection import train_test_split\n",
    "from sklearn.metrics import mean_squared_error"
   ]
  },
  {
   "cell_type": "code",
   "execution_count": 2,
   "metadata": {},
   "outputs": [
    {
     "name": "stdout",
     "output_type": "stream",
     "text": [
      "<class 'pandas.core.frame.DataFrame'>\n",
      "RangeIndex: 100000 entries, 0 to 99999\n",
      "Data columns (total 5 columns):\n",
      " #   Column   Non-Null Count   Dtype  \n",
      "---  ------   --------------   -----  \n",
      " 0   id       100000 non-null  object \n",
      " 1   f0       100000 non-null  float64\n",
      " 2   f1       100000 non-null  float64\n",
      " 3   f2       100000 non-null  float64\n",
      " 4   product  100000 non-null  float64\n",
      "dtypes: float64(4), object(1)\n",
      "memory usage: 3.8+ MB\n",
      "      id        f0        f1        f2     product\n",
      "0  txEyH  0.705745 -0.497823  1.221170  105.280062\n",
      "1  2acmU  1.334711 -0.340164  4.365080   73.037750\n",
      "2  409Wp  1.022732  0.151990  1.419926   85.265647\n",
      "3  iJLyR -0.032172  0.139033  2.978566  168.620776\n",
      "4  Xdl7t  1.988431  0.155413  4.751769  154.036647\n",
      "<class 'pandas.core.frame.DataFrame'>\n",
      "RangeIndex: 100000 entries, 0 to 99999\n",
      "Data columns (total 5 columns):\n",
      " #   Column   Non-Null Count   Dtype  \n",
      "---  ------   --------------   -----  \n",
      " 0   id       100000 non-null  object \n",
      " 1   f0       100000 non-null  float64\n",
      " 2   f1       100000 non-null  float64\n",
      " 3   f2       100000 non-null  float64\n",
      " 4   product  100000 non-null  float64\n",
      "dtypes: float64(4), object(1)\n",
      "memory usage: 3.8+ MB\n",
      "      id         f0         f1        f2     product\n",
      "0  kBEdx -15.001348  -8.276000 -0.005876    3.179103\n",
      "1  62mP7  14.272088  -3.475083  0.999183   26.953261\n",
      "2  vyE1P   6.263187  -5.948386  5.001160  134.766305\n",
      "3  KcrkZ -13.081196 -11.506057  4.999415  137.945408\n",
      "4  AHL4O  12.702195  -8.147433  5.004363  134.766305\n",
      "<class 'pandas.core.frame.DataFrame'>\n",
      "RangeIndex: 100000 entries, 0 to 99999\n",
      "Data columns (total 5 columns):\n",
      " #   Column   Non-Null Count   Dtype  \n",
      "---  ------   --------------   -----  \n",
      " 0   id       100000 non-null  object \n",
      " 1   f0       100000 non-null  float64\n",
      " 2   f1       100000 non-null  float64\n",
      " 3   f2       100000 non-null  float64\n",
      " 4   product  100000 non-null  float64\n",
      "dtypes: float64(4), object(1)\n",
      "memory usage: 3.8+ MB\n",
      "      id        f0        f1        f2     product\n",
      "0  fwXo0 -1.146987  0.963328 -0.828965   27.758673\n",
      "1  WJtFt  0.262778  0.269839 -2.530187   56.069697\n",
      "2  ovLUW  0.194587  0.289035 -5.586433   62.871910\n",
      "3  q6cA6  2.236060 -0.553760  0.930038  114.572842\n",
      "4  WPMUX -0.515993  1.716266  5.899011  149.600746\n"
     ]
    }
   ],
   "source": [
    "# cargamos los datos de geo data 0 y los analizamos\n",
    "\n",
    "geo_data_0 = pd.read_csv('./datasets/geo_data_0.csv')\n",
    "geo_data_0.info()\n",
    "print(geo_data_0.head())\n",
    "\n",
    "# cargamos los datos de geo data 1 y los analizamos\n",
    "\n",
    "geo_data_1 = pd.read_csv('./datasets/geo_data_1.csv')\n",
    "geo_data_1.info()\n",
    "print(geo_data_1.head())\n",
    "\n",
    "# cargamos los datos de geo data 2 y los analizamos\n",
    "\n",
    "geo_data_2 = pd.read_csv('./datasets/geo_data_2.csv')\n",
    "geo_data_2.info()\n",
    "print(geo_data_2.head())\n"
   ]
  },
  {
   "cell_type": "code",
   "execution_count": 3,
   "metadata": {},
   "outputs": [],
   "source": [
    "\n",
    "# Como el conjunto de datos tiene las mismas caractertísticas para diferenes regiones, vamos a crear una función\n",
    "# para reutilizarla y hacer modificiaones segúns la necesidades.\n",
    "def modela_entrena_pozo(data, info):\n",
    "\n",
    "    \"\"\"\n",
    "    Función para leer cada data y entrenar el modelo de regresión\n",
    "    Vamos a imprimir el RMSE en el conjunto de validación\n",
    "    y vamos a mostrar la distribución de cada data para entender mejor a lo que nos enfrentamos.\n",
    "    \"\"\"\n",
    "    # como el id es identificador único de pozo de petróleo, vamos a eliminar esa columnas para que no interfiera en nuestro modelo\n",
    "    \n",
    "    # Dividimos los datos en conjuntos de entrenamiento y de validación en una proporción de 75:25\n",
    "    features = data.drop(['id','product'], axis=1) # eliminamos las columnas id y product para quedarnos solo con las features\n",
    "    target = data['product'] # esta es la variable objetivo que queremos predecir\n",
    "    features_train, features_valid, target_train, target_valid = train_test_split(features, target, test_size=0.25, random_state=12345) # dividimos los datos en conjuntos de entrenamiento y validación\n",
    "\n",
    "    # Vamos a usar la Regresión Linear para entrenar nuestro modelo\n",
    "\n",
    "    model = LinearRegression( ) # Creamos el modelo de regresión lineal\n",
    "    model.fit(features_train, target_train)  # Entrenamos el modelo\n",
    "    predictions_valid = model.predict(features_valid) # obtén las predicciones del modelo en el conjunto de validación\n",
    "    \n",
    "    print(f\"El volumen medio de reservas predicho para el {info} es: {predictions_valid.mean()}\")\n",
    "    \n",
    "    result = mean_squared_error(target_valid, predictions_valid) ** 0.5\n",
    "    print(f\"RMSE del modelo de regresión lineal en el conjunto de validación de {info} es: {result}\")\n",
    "\n",
    "    data['product'].plot(title = f'Volumen de reservas en el pozo de petróleo {info} (miles de barriles)',kind = 'hist', bins=24, ylabel='Frecuencia')\n",
    "    plt.show()\n",
    "\n",
    "\n"
   ]
  },
  {
   "cell_type": "code",
   "execution_count": 4,
   "metadata": {},
   "outputs": [
    {
     "name": "stdout",
     "output_type": "stream",
     "text": [
      "El volumen medio de reservas predicho para el Geo data 0 es: 92.59256778438035\n",
      "RMSE del modelo de regresión lineal en el conjunto de validación de Geo data 0 es: 37.5794217150813\n"
     ]
    },
    {
     "data": {
      "image/png": "[encoded data removed]",
      "text/plain": [
       "<Figure size 640x480 with 1 Axes>"
      ]
     },
     "metadata": {},
     "output_type": "display_data"
    },
    {
     "name": "stdout",
     "output_type": "stream",
     "text": [
      "El volumen medio de reservas predicho para el Geo data 1 es: 68.72854689544599\n",
      "RMSE del modelo de regresión lineal en el conjunto de validación de Geo data 1 es: 0.8930992867756169\n"
     ]
    },
    {
     "data": {
      "image/png": "[encoded data removed]",
      "text/plain": [
       "<Figure size 640x480 with 1 Axes>"
      ]
     },
     "metadata": {},
     "output_type": "display_data"
    },
    {
     "name": "stdout",
     "output_type": "stream",
     "text": [
      "El volumen medio de reservas predicho para el Geo data 2 es: 94.96504596800489\n",
      "RMSE del modelo de regresión lineal en el conjunto de validación de Geo data 2 es: 40.02970873393434\n"
     ]
    },
    {
     "data": {
      "image/png": "[encoded data removed]",
      "text/plain": [
       "<Figure size 640x480 with 1 Axes>"
      ]
     },
     "metadata": {},
     "output_type": "display_data"
    }
   ],
   "source": [
    "## imprimimo el volumen medio de reservas y el RMSE de cada conjunto de datos\n",
    "\n",
    "modela_entrena_pozo(geo_data_0, \"Geo data 0\") # llamamos a la función para el primer conjunto de datos\n",
    "modela_entrena_pozo(geo_data_1, \"Geo data 1\") # llamamos a la función para el segundo conjunto de datos\n",
    "modela_entrena_pozo(geo_data_2, \"Geo data 2\") # llamamos a la función para el tercer conjunto de datos"
   ]
  },
  {
   "cell_type": "markdown",
   "metadata": {},
   "source": [
    "## Comentarios iniciales\n",
    "\n",
    "Con la media de 92.6 mil barriles y un RMSE de 37.57 mil barriles, tenemos un intervalo “de confianza intuitivo” de:\n",
    "92.6±37.6 equivalente a [55,130] (miles de barriles).\n",
    "\n",
    "\n",
    "Eso es un ±40% de la media. No es un error pequeño: así que las predicciones pueden estar muy por arriba o por abajo.\n",
    "\n",
    "\n",
    "## Problemas detectados\n",
    "\n",
    "\n",
    "En la región 1 observamos un problema de datos insuficientes; perse a tener la misma cantidad de registro en las tres regiones, el histograma de la región 1 nos muestra que tenemos valores aislados lo que indica una distribución irregular.\n",
    "\n",
    "Con ello, RMSE artificialmente bajo, demasido bajo, casi perfecto, con lo que el modelo \"memoriza\" en lugar de generalizar.\n",
    "\n",
    "Es por ello que el resultado del modelo no es confiable para predicciones reales.\n",
    "\n",
    "## Datos más confiables y honestos \n",
    "\n",
    "En las regiones 0 y 2 tenemos datos más robustos; Valores centrados alrededor de la media (distribución más normal).\n",
    "\n",
    "Un RMSE mayor pero más realista lo que refleja la variabilidad real de los datos.\n",
    "\n",
    "Un Intervalo de confianza más amplio pero más honesto."
   ]
  },
  {
   "cell_type": "markdown",
   "metadata": {},
   "source": [
    "## Tabajemos en el modelo de negocio\n",
    "\n",
    "Como la tarea es decir en qué región tendremos más potencial para los 200 nuevos pozos, necesitamos declara las varibles de interés del negocio."
   ]
  },
  {
   "cell_type": "code",
   "execution_count": 5,
   "metadata": {},
   "outputs": [
    {
     "name": "stdout",
     "output_type": "stream",
     "text": [
      "Precio por barril: 4.5\n",
      "Costo por pozo: 500000.0\n",
      "Umbral mínimo de producción (en miles de barriles) para cubrir costes por pozo.: 111.11111111111111\n",
      "Umbral por barril: 111111.11111111111\n"
     ]
    }
   ],
   "source": [
    "# con base en los requerimientos, vamos a definir asl variables globales que usaremos\n",
    "\n",
    "# -- parámetros del negocio\n",
    "\n",
    "TOTAL_BUDGET = 100000000   # Presupuesto total 10 millones \n",
    "WELLS_TO_DEVELOP = 200     # Número de pozos a perforar 200\n",
    "REVENUE_PER_KBARREL = 4500 # # Ingreso por 1000 barriles\n",
    "PRICE_PER_BARREL = REVENUE_PER_KBARREL / 1000  # = 4.5 USD por barril\n",
    "\n",
    "COST_PER_WELL = TOTAL_BUDGET / WELLS_TO_DEVELOP # Costo por pozo = 500,000 USD\n",
    "THRESHOLD_KBARRELS = COST_PER_WELL / REVENUE_PER_KBARREL # Umbral mínimo de producción (en miles de barriles) para cubrir costes por pozo\n",
    "\n",
    "THRESHOLD_BARRELS = THRESHOLD_KBARRELS * 1000     # Umbral mínimo de producción (en barriles) para cubrir costes por pozo\n",
    "\n",
    "print(f\"Precio por barril: {PRICE_PER_BARREL}\")\n",
    "print(f\"Costo por pozo: {COST_PER_WELL}\")\n",
    "print(f\"Umbral mínimo de producción (en miles de barriles) para cubrir costes por pozo.: {THRESHOLD_KBARRELS}\")\n",
    "print(f\"Umbral por barril: {THRESHOLD_BARRELS}\")"
   ]
  },
  {
   "cell_type": "markdown",
   "metadata": {},
   "source": [
    "## Creación de función para obtener los resulados generales \n",
    "\n",
    "Vamos a reutilizar la función de investigación para tener el modelo y sus predicciones y valores de validación para usar nuestras estimaciones y ganacias."
   ]
  },
  {
   "cell_type": "code",
   "execution_count": 6,
   "metadata": {},
   "outputs": [],
   "source": [
    "\n",
    "# Vamos a modificar nuestra función anterior para que nos retorn los reustlado del entrenamiento así como el modelo que usaremos\n",
    "# en los cálculos posteriores\n",
    "def modela_entrena_pozo(data, test_size=0.25, random_state=12345):\n",
    "    \"\"\"\n",
    "    Entrena un modelo linea y devuelo : modelo, features_valid, target_valid y predictions_valid, y RMSE\n",
    "    \n",
    "    \"\"\"\n",
    "\n",
    "    features = data.drop(['id','product'], axis=1) # eliminamos las columnas id y product para quedarnos solo con las features\n",
    "    target = data['product'] # esta es la variable objetivo que queremos predecir\n",
    "    features_train, features_valid, target_train, target_valid = train_test_split(features, target, test_size=0.25, random_state=12345) # dividimos los datos en conjuntos de entrenamiento y validación\n",
    "\n",
    "    # Vamos a usar la Regresión Linear para entrenar nuestro modelo\n",
    "\n",
    "    model = LinearRegression( ) # Creamos el modelo de regresión lineal\n",
    "    model.fit(features_train, target_train)  # Entrenamos el modelo\n",
    "    predictions_valid = model.predict(features_valid) # obtén las predicciones del modelo en el conjunto de validación\n",
    "\n",
    "\n",
    "    rmse = mean_squared_error(target_valid, predictions_valid) ** 0.5  # Calculamos el RMSE\n",
    "\n",
    "    return model, features_valid, target_valid , predictions_valid,  rmse  # Retornamos el modelo y los datos de validación\n"
   ]
  },
  {
   "cell_type": "code",
   "execution_count": 7,
   "metadata": {},
   "outputs": [],
   "source": [
    "def top_ganancias(target_valid , predictions_valid , top_n = WELLS_TO_DEVELOP,\n",
    "                 revenue_per_kbarrel=REVENUE_PER_KBARREL, cost_per_well=COST_PER_WELL):\n",
    "    \"\"\"\n",
    "    Selecciona los 'top_n' pozos por predicción (predictions_valid),\n",
    "    pero calcula la ganancia con los valores REALES (target_valid) en esos pozos.\n",
    "    Devuelve: profit_est  , selected_actual (Series con kbarrels reales de los top_n).\n",
    "    \"\"\"\n",
    "\n",
    "    # Creamos el DataFram alineando los índices de \n",
    "    selecciones = pd.DataFrame({'target_valid' : target_valid,\n",
    "                               'predictions_valid' : predictions_valid}).sort_values('predictions_valid', ascending = False)\n",
    "    # Seleccionamos el top n\n",
    "    top = selecciones.head(top_n) \n",
    "\n",
    "    # Los ingresos  = sum(kbarrels_reales) * revenue_per_kbarrel\n",
    "    revenue = top['target_valid'].sum() * revenue_per_kbarrel # Calculamos los ingresos\n",
    "    cost = top_n * cost_per_well   # Calculamos el coste\n",
    "    profit = revenue - cost # Calculamos la ganancia\n",
    "    return profit, top['target_valid'] # Retornamos la ganancia y los kbarrels reales"
   ]
  },
  {
   "cell_type": "markdown",
   "metadata": {},
   "source": [
    "## Cálculo de ganacias de cada región"
   ]
  },
  {
   "cell_type": "code",
   "execution_count": 8,
   "metadata": {},
   "outputs": [
    {
     "name": "stdout",
     "output_type": "stream",
     "text": [
      "Ganancia estimada de la región region_0 es: 33208260.43139851\n",
      "Ganancia estimada de la región region_1 es: 24150866.966815114\n",
      "Ganancia estimada de la región region_2 es: 27103499.635998324\n"
     ]
    }
   ],
   "source": [
    "\n",
    "# con la función top_ganacias vamos a calcular las gancnais de cada región\n",
    "\n",
    "\n",
    "results = []\n",
    "\n",
    "for name, df in [('region_0', geo_data_0), ('region_1', geo_data_1), ('region_2', geo_data_2)]:\n",
    "    \n",
    "    modelo, features_valid, target_valid , predictions_valid,  rmse = modela_entrena_pozo(df)\n",
    "\n",
    "    # Ganancia estimada con selección de top-N por predicción\n",
    "    profit_est, selected_actual = top_ganancias(target_valid, predictions_valid)\n",
    "\n",
    "    print(f\"Ganancia estimada de la región {name} es: {profit_est}\")\n",
    "    \n"
   ]
  },
  {
   "cell_type": "markdown",
   "metadata": {},
   "source": [
    "## Conclusiones\n",
    "\n",
    "\n",
    "Comparación entre regiones:\n",
    "Región 0: $33,208,260\n",
    "- La más rentable\n",
    "- Ganancia neta de ~33.2 millones\n",
    "\n",
    "Región 2: $27,103,500 \n",
    "- Segunda opción\n",
    "- Ganancia neta de ~27.1 millones\n",
    "\n",
    "Región 1: $24,150,867\n",
    "- Menos rentable\n",
    "- Ganancia neta de ~24.2 millones\n",
    "\n",
    "Todas las regiones son rentables (ganancias positivas), pero:\n",
    "Región 0 generaría ~ $ 9 millones más que Región 1\n",
    " \n",
    "La diferencia entre la mejor y peor opción es significativa (~ $9M), sin embargo, aun tengamos en cuenta que la región 1 presenta poca fiabilidad dado sus datos.\n"
   ]
  },
  {
   "cell_type": "markdown",
   "metadata": {},
   "source": [
    "## Usando bootstraping\n",
    "\n",
    "Usando la predicción con regresión lineal tenemos una visión amplia de cada región y las ganancias que \n",
    "podemos tner en cada una de ella. Sin embargo, como se dijo desde el analisis inicial, la región 1 tenía muy poca variabildiad en los datos lo que no da ceterza con sus resultado.\n",
    "\n",
    "Así que usaremos bootstraping con 1000 iteraciones (usando reemplazo en cada muestra) para calcular las ganancias y así vamos a estimar la distribución de la utilidad y medir el riesgo.\n",
    "\n"
   ]
  },
  {
   "cell_type": "code",
   "execution_count": 9,
   "metadata": {},
   "outputs": [],
   "source": [
    "\n",
    "def bootstrap_profit(actual_kbarrels_selected, n_boot=1000,\n",
    "                     revenue_per_kbarrel=REVENUE_PER_KBARREL, cost_per_well=COST_PER_WELL):\n",
    "    \"\"\"\n",
    "    Bootstrap sobre los 'top_n' pozos seleccionados para estimar distribución de ganancias.\n",
    "    Cada réplica re-muestrea con reemplazo los 'top_n' kbarrels REALES.\n",
    "    Devuelve un diccionario con \n",
    "    mean (media)\n",
    "    , ci_low (cuantil inferior) \n",
    "    , ci_high (cuantil superior)\n",
    "    , p_loss (ganacia o pérdida)\n",
    "    , profits (serie de ganacias).\n",
    "    \"\"\"\n",
    "    k = len(actual_kbarrels_selected)  # Número de pozos seleccionados\n",
    "    profits = []  # Lista para almacenar las ganancias de cada réplica\n",
    "    for i in range(n_boot):\n",
    "        # Vamos a re-muestrear con reemplazo, 1000 iteraciones en total y con esto estimaremos la distribución de ganancias\n",
    "        # y evaluar el riesgo de pérdida asociado con la decisión de inversión.\n",
    "        sample = actual_kbarrels_selected.sample(n=k, replace=True) # Re-muestreamos con reemplazo\n",
    "        revenue = sample.sum() * revenue_per_kbarrel  # Calculamos los ingresos\n",
    "        cost = k * cost_per_well  # Calculamos el coste\n",
    "        profits.append(revenue - cost)  # Calculamos la ganancia\n",
    "    profits = pd.Series(profits)  # Convertimos a Series de pandas\n",
    "    return {\n",
    "        'mean_profit': profits.mean(),\n",
    "        'ci_low_95': profits.quantile(0.025),\n",
    "        'ci_high_95': profits.quantile(0.975),\n",
    "        'p_loss': (profits < 0).mean(),\n",
    "        'profits': profits\n",
    "    }"
   ]
  },
  {
   "cell_type": "code",
   "execution_count": 11,
   "metadata": {},
   "outputs": [
    {
     "data": {
      "text/html": [
       "<div>\n",
       "<style scoped>\n",
       "    .dataframe tbody tr th:only-of-type {\n",
       "        vertical-align: middle;\n",
       "    }\n",
       "\n",
       "    .dataframe tbody tr th {\n",
       "        vertical-align: top;\n",
       "    }\n",
       "\n",
       "    .dataframe thead th {\n",
       "        text-align: right;\n",
       "    }\n",
       "</style>\n",
       "<table border=\"1\" class=\"dataframe\">\n",
       "  <thead>\n",
       "    <tr style=\"text-align: right;\">\n",
       "      <th></th>\n",
       "      <th>Región</th>\n",
       "      <th>RMSE</th>\n",
       "      <th>Promedio predicciones top</th>\n",
       "      <th>Beneficio estimado puntual</th>\n",
       "      <th>Beneficio medio bootstrap</th>\n",
       "      <th>IC 95% bajo</th>\n",
       "      <th>IC 95% alto</th>\n",
       "      <th>Prob. pérdida</th>\n",
       "    </tr>\n",
       "  </thead>\n",
       "  <tbody>\n",
       "    <tr>\n",
       "      <th>0</th>\n",
       "      <td>region_0</td>\n",
       "      <td>37.579422</td>\n",
       "      <td>155.511654</td>\n",
       "      <td>3.320826e+07</td>\n",
       "      <td>3.329951e+07</td>\n",
       "      <td>2.998310e+07</td>\n",
       "      <td>3.618757e+07</td>\n",
       "      <td>0.0</td>\n",
       "    </tr>\n",
       "    <tr>\n",
       "      <th>2</th>\n",
       "      <td>region_2</td>\n",
       "      <td>40.029709</td>\n",
       "      <td>148.019493</td>\n",
       "      <td>2.710350e+07</td>\n",
       "      <td>2.710702e+07</td>\n",
       "      <td>2.358212e+07</td>\n",
       "      <td>3.045933e+07</td>\n",
       "      <td>0.0</td>\n",
       "    </tr>\n",
       "    <tr>\n",
       "      <th>1</th>\n",
       "      <td>region_1</td>\n",
       "      <td>0.893099</td>\n",
       "      <td>138.730134</td>\n",
       "      <td>2.415087e+07</td>\n",
       "      <td>2.415087e+07</td>\n",
       "      <td>2.415087e+07</td>\n",
       "      <td>2.415087e+07</td>\n",
       "      <td>0.0</td>\n",
       "    </tr>\n",
       "  </tbody>\n",
       "</table>\n",
       "</div>"
      ],
      "text/plain": [
       "     Región       RMSE  Promedio predicciones top  Beneficio estimado puntual  \\\n",
       "0  region_0  37.579422                 155.511654                3.320826e+07   \n",
       "2  region_2  40.029709                 148.019493                2.710350e+07   \n",
       "1  region_1   0.893099                 138.730134                2.415087e+07   \n",
       "\n",
       "   Beneficio medio bootstrap   IC 95% bajo   IC 95% alto  Prob. pérdida  \n",
       "0               3.329951e+07  2.998310e+07  3.618757e+07            0.0  \n",
       "2               2.710702e+07  2.358212e+07  3.045933e+07            0.0  \n",
       "1               2.415087e+07  2.415087e+07  2.415087e+07            0.0  "
      ]
     },
     "execution_count": 11,
     "metadata": {},
     "output_type": "execute_result"
    }
   ],
   "source": [
    "# con la función top_ganacias y junto a bootstrap vamos a calcular las ganacias estimadas\n",
    "\n",
    "results = []\n",
    "\n",
    "for name, df in [('region_0', geo_data_0), ('region_1', geo_data_1), ('region_2', geo_data_2)]:\n",
    "    \n",
    "    modelo, features_valid, target_valid , predictions_valid,  rmse = modela_entrena_pozo(df) \n",
    "\n",
    "    # Ganancia estimada con selección de top-N por predicción\n",
    "    profit_est, selected_actual = top_ganancias(target_valid, predictions_valid) # Seleccionamos los pozos con mayor predicción\n",
    "\n",
    "    # Bootstrap de riesgo/beneficio sobre los 'top-N' seleccionados\n",
    "    boot = bootstrap_profit(selected_actual)  # Realizamos el bootstrap\n",
    "\n",
    "    results.append({\n",
    "        'Región': name,\n",
    "        'RMSE': rmse,\n",
    "        'Promedio predicciones top': (pd.DataFrame({'predictions_valid': predictions_valid})\n",
    "                              .sort_values('predictions_valid', ascending=False)\n",
    "                              .head(WELLS_TO_DEVELOP)['predictions_valid'].mean()),\n",
    "        'Beneficio estimado puntual': profit_est,\n",
    "        'Beneficio medio bootstrap': boot['mean_profit'],\n",
    "        'IC 95% bajo': boot['ci_low_95'],\n",
    "        'IC 95% alto': boot['ci_high_95'],\n",
    "        'Prob. pérdida': boot['p_loss']\n",
    "    })\n",
    "\n",
    "region_summary = pd.DataFrame(results).sort_values('Beneficio medio bootstrap', ascending=False)  # Resumen por región\n",
    "region_summary\n",
    "    "
   ]
  },
  {
   "cell_type": "markdown",
   "metadata": {},
   "source": [
    "## Análisis por región\n",
    "\n",
    "--- \n",
    "Region_0\n",
    "\n",
    "Beneficio esperado más alto: 33.36 millones.\n",
    "\n",
    "Intervalo de confianza relativamente amplio (±3 M).\n",
    "\n",
    "Riesgo de pérdida: 0 %.\n",
    "\n",
    "RMSE alto (37.6), lo que indica mayor incertidumbre en las predicciones pero con datos más honestos.\n",
    "\n",
    "\n",
    "---\n",
    "\n",
    "Region_2\n",
    "\n",
    "Beneficio medio: 27.09 millones, menor que región_0.\n",
    "\n",
    "Intervalo más ajustado (±3 M).\n",
    "\n",
    "Riesgo de pérdida: 0 %.\n",
    "\n",
    "RMSE también alto (40.0), modelo menos preciso.\n",
    "\n",
    "\n",
    "--- \n",
    "Region_1\n",
    "\n",
    "Beneficio esperado más bajo (24.15 millones).\n",
    "\n",
    "Intervalo nulo (todos los valores iguales, sin variabilidad en bootstrap) → indica que el modelo es extremadamente estable.\n",
    "\n",
    "RMSE muy bajo (0.89) → predicciones casi perfectas.\n",
    "\n",
    "Riesgo de pérdida: 0 %.\n",
    "\n",
    "Región más segura y confiable, pero con menor margen de ganancia, pero con datos menos honestos, ya que como se vien en el análisis inicial, había mínima variabilidad en los datos los que provoca que los modelos no tenga que adivinar tanto,por eso las predicciones con casi perfectas."
   ]
  },
  {
   "cell_type": "markdown",
   "metadata": {},
   "source": [
    "## Conclusión\n",
    "\n",
    "Tras el análisis comparativo de las tres regiones mediante modelos predictivos y simulaciones de riesgo (bootstrap con 1000 iteraciones), se determinaron los beneficios esperados y la probabilidad de pérdidas para la apertura de 200 nuevos pozos petrolíferos.\n",
    "\n",
    "Región 0: beneficio promedio estimado de ≈33 millones USD, con un intervalo de confianza al 95% entre 30 y 36 millones USD y probabilidad de pérdida 0%.\n",
    "\n",
    "Región 1: beneficio promedio de ≈24 millones USD, sin variabilidad en las simulaciones (intervalo estrecho), pero con un margen de ganancia menor frente a la Región 0.\n",
    "\n",
    "Región 2: beneficio promedio de ≈27 millones USD, con mayor dispersión (IC 95% entre 23 y 30 millones USD), aunque igualmente sin riesgo de pérdidas.\n",
    "\n",
    "## Recomendación\n",
    "Se recomienda a OilyGiant desarrollar 200 pozos en la Región 0, ya que presenta el mayor beneficio esperado y nulo riesgo de pérdida, lo que la convierte en la alternativa más sólida desde el punto de vista financiero y estratégico.\n"
   ]
  }
 ],
 "metadata": {
  "kernelspec": {
   "display_name": "base",
   "language": "python",
   "name": "python3"
  },
  "language_info": {
   "codemirror_mode": {
    "name": "ipython",
    "version": 3
   },
   "file_extension": ".py",
   "mimetype": "text/x-python",
   "name": "python",
   "nbconvert_exporter": "python",
   "pygments_lexer": "ipython3",
   "version": "3.12.7"
  }
 },
 "nbformat": 4,
 "nbformat_minor": 4
}
